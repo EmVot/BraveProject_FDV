{
 "cells": [
  {
   "cell_type": "code",
   "execution_count": 1,
   "metadata": {},
   "outputs": [
    {
     "ename": "ModuleNotFoundError",
     "evalue": "No module named 'POLAR_REGIONS'",
     "output_type": "error",
     "traceback": [
      "\u001b[0;31m---------------------------------------------------------------------------\u001b[0m",
      "\u001b[0;31mModuleNotFoundError\u001b[0m                       Traceback (most recent call last)",
      "Cell \u001b[0;32mIn[1], line 3\u001b[0m\n\u001b[1;32m      1\u001b[0m get_ipython()\u001b[38;5;241m.\u001b[39mrun_line_magic(\u001b[38;5;124m'\u001b[39m\u001b[38;5;124mload_ext\u001b[39m\u001b[38;5;124m'\u001b[39m, \u001b[38;5;124m'\u001b[39m\u001b[38;5;124mautoreload\u001b[39m\u001b[38;5;124m'\u001b[39m)\n\u001b[1;32m      2\u001b[0m get_ipython()\u001b[38;5;241m.\u001b[39mrun_line_magic(\u001b[38;5;124m'\u001b[39m\u001b[38;5;124mautoreload\u001b[39m\u001b[38;5;124m'\u001b[39m, \u001b[38;5;124m'\u001b[39m\u001b[38;5;124m2\u001b[39m\u001b[38;5;124m'\u001b[39m)\n\u001b[0;32m----> 3\u001b[0m \u001b[38;5;28;01mfrom\u001b[39;00m \u001b[38;5;21;01mDynamic_RusselPlot\u001b[39;00m \u001b[38;5;28;01mimport\u001b[39;00m RusselPlotAnimator, TrailMode\n\u001b[1;32m      5\u001b[0m \u001b[38;5;28;01mdef\u001b[39;00m \u001b[38;5;21mesempio\u001b[39m():\n\u001b[1;32m      7\u001b[0m     animator \u001b[38;5;241m=\u001b[39m RusselPlotAnimator(width\u001b[38;5;241m=\u001b[39m\u001b[38;5;241m1280\u001b[39m, height\u001b[38;5;241m=\u001b[39m\u001b[38;5;241m720\u001b[39m, fps\u001b[38;5;241m=\u001b[39m\u001b[38;5;241m30\u001b[39m)\n",
      "File \u001b[0;32m~/Desktop/TESI-Emotion Recognition/BraveProject_FDV/Dynamic_RusselPlot.py:11\u001b[0m\n\u001b[1;32m      9\u001b[0m \u001b[38;5;28;01mfrom\u001b[39;00m \u001b[38;5;21;01mtyping\u001b[39;00m \u001b[38;5;28;01mimport\u001b[39;00m List, Tuple, Optional, Dict\n\u001b[1;32m     10\u001b[0m \u001b[38;5;28;01mfrom\u001b[39;00m \u001b[38;5;21;01menum\u001b[39;00m \u001b[38;5;28;01mimport\u001b[39;00m Enum\n\u001b[0;32m---> 11\u001b[0m \u001b[38;5;28;01mfrom\u001b[39;00m \u001b[38;5;21;01mRusselSpacePartition\u001b[39;00m \u001b[38;5;28;01mimport\u001b[39;00m POLAR_REGIONS \n\u001b[1;32m     14\u001b[0m \u001b[38;5;28;01mclass\u001b[39;00m \u001b[38;5;21;01mTrailMode\u001b[39;00m(Enum):\n\u001b[1;32m     15\u001b[0m \u001b[38;5;250m    \u001b[39m\u001b[38;5;124;03m\"\"\"Modalità di visualizzazione della scia.\"\"\"\u001b[39;00m\n",
      "File \u001b[0;32m~/Desktop/TESI-Emotion Recognition/BraveProject_FDV/RusselSpacePartition.py:3\u001b[0m\n\u001b[1;32m      1\u001b[0m \u001b[38;5;28;01mimport\u001b[39;00m \u001b[38;5;21;01mnumpy\u001b[39;00m \u001b[38;5;28;01mas\u001b[39;00m \u001b[38;5;21;01mnp\u001b[39;00m\n\u001b[0;32m----> 3\u001b[0m \u001b[38;5;28;01mimport\u001b[39;00m \u001b[38;5;21;01mPOLAR_REGIONS\u001b[39;00m\n\u001b[1;32m      5\u001b[0m SCALE \u001b[38;5;241m=\u001b[39m \u001b[38;5;241m6\u001b[39m\n\u001b[1;32m      6\u001b[0m SER \u001b[38;5;241m=\u001b[39m \u001b[38;5;241m0.001\u001b[39m      \u001b[38;5;66;03m#Standard Emotional Radius -> radius for the proobability circle associated to each emotion\u001b[39;00m\n",
      "\u001b[0;31mModuleNotFoundError\u001b[0m: No module named 'POLAR_REGIONS'"
     ]
    }
   ],
   "source": [
    "%load_ext autoreload\n",
    "%autoreload 2\n",
    "from Dynamic_RusselPlot import RusselPlotAnimator, TrailMode\n",
    "\n",
    "def esempio():\n",
    "    \n",
    "    animator = RusselPlotAnimator(width=1280, height=720, fps=30)\n",
    "    \n",
    "    waypoints = [\n",
    "        (-0.3, -0.6),\n",
    "        (0, 0.7),    \n",
    "        (0.4, 0),    \n",
    "        (-0.8, 0.5), \n",
    "        (0.25, -0.6),\n",
    "        (0, 0)       \n",
    "        ]\n",
    "    \n",
    "    animator.add_waypoints(waypoints)\n",
    "    \n",
    "    print(\"\\Generando frames...\")\n",
    "    video_path = animator.create_frame_based_video(\n",
    "        trail_mode=TrailMode.GROWING,\n",
    "        duration_per_segment=2.0,\n",
    "        trail_length=60,\n",
    "        output_path=\"russel_plot_frames.mp4\"\n",
    "    )\n",
    "    \n",
    "    print(f\"\\nVideo completato: {video_path}\")\n",
    "\n",
    "\n",
    "\n",
    "esempio()"
   ]
  }
 ],
 "metadata": {
  "kernelspec": {
   "display_name": "base",
   "language": "python",
   "name": "python3"
  },
  "language_info": {
   "codemirror_mode": {
    "name": "ipython",
    "version": 3
   },
   "file_extension": ".py",
   "mimetype": "text/x-python",
   "name": "python",
   "nbconvert_exporter": "python",
   "pygments_lexer": "ipython3",
   "version": "3.10.11"
  }
 },
 "nbformat": 4,
 "nbformat_minor": 2
}
